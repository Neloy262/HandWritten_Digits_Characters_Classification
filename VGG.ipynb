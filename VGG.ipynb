{
 "cells": [
  {
   "cell_type": "code",
   "execution_count": 4,
   "metadata": {
    "id": "Zt4CcffE5zq2"
   },
   "outputs": [],
   "source": [
    "import torch\n",
    "import torch.nn as nn\n",
    "import torch.nn.functional as F\n",
    "import torchvision.transforms.functional as Ft\n",
    "import torchvision.transforms as transforms\n",
    "import torchvision\n",
    "import torch.onnx\n",
    "from torch.utils.data import Dataset,DataLoader\n",
    "import numpy as np\n",
    "import math\n",
    "import os\n",
    "import pandas as pd\n",
    "from PIL import Image\n",
    "from skimage import io\n",
    "# device=torch.device('cuda' if torch.cuda.is_available() else 'cpu')"
   ]
  },
  {
   "cell_type": "code",
   "execution_count": 5,
   "metadata": {
    "id": "bG1DrQMG5zq8"
   },
   "outputs": [],
   "source": [
    "VGG_types = {\n",
    "    \"VGG11\": [64, \"M\", 128, \"M\", 256, 256, \"M\", 512, 512, \"M\", 512, 512, \"M\"],\n",
    "    \"VGG13\": [64, 64, \"M\", 128, 128, \"M\", 256, 256, \"M\", 512, 512, \"M\", 512, 512, \"M\"],\n",
    "    \"VGG16\": [\n",
    "        64,\n",
    "        64,\n",
    "        \"M\",\n",
    "        128,\n",
    "        128,\n",
    "        \"M\",\n",
    "        256,\n",
    "        256,\n",
    "        256,\n",
    "        \"M\",\n",
    "        512,\n",
    "        512,\n",
    "        512,\n",
    "        \"M\",\n",
    "        512,\n",
    "        512,\n",
    "        512,\n",
    "        \"M\",\n",
    "    ],\n",
    "    \"VGG19\": [\n",
    "        64,\n",
    "        64,\n",
    "        \"M\",\n",
    "        128,\n",
    "        128,\n",
    "        \"M\",\n",
    "        256,\n",
    "        256,\n",
    "        256,\n",
    "        256,\n",
    "        \"M\",\n",
    "        512,\n",
    "        512,\n",
    "        512,\n",
    "        512,\n",
    "        \"M\",\n",
    "        512,\n",
    "        512,\n",
    "        512,\n",
    "        512,\n",
    "        \"M\",\n",
    "    ],\n",
    "}\n",
    "\n",
    "label={\n",
    "    \"0\":0,\n",
    "    \"1\":1,\n",
    "    \"2\":2,\n",
    "    \"3\":3,\n",
    "    \"4\":4,\n",
    "    \"5\":5,\n",
    "    \"6\":6,\n",
    "    \"7\":7,\n",
    "    \"8\":8,\n",
    "    \"9\":9,\n",
    "    \"a\":10,\n",
    "    \"b\":11,\n",
    "    \"c\":12,\n",
    "    \"d\":13,\n",
    "    \"e\":14,\n",
    "    \"f\":15,\n",
    "    \"g\":16,\n",
    "    \"h\":17,\n",
    "    \"i\":18,\n",
    "    \"j\":19,\n",
    "    \"k\":20,\n",
    "    \"l\":21,\n",
    "    \"m\":22,\n",
    "    \"n\":23,\n",
    "    \"o\":24,\n",
    "    \"p\":25,\n",
    "    \"q\":26,\n",
    "    \"r\":27,\n",
    "    \"s\":28,\n",
    "    \"t\":29,\n",
    "    \"u\":30,\n",
    "    \"v\":31,\n",
    "    \"w\":32,\n",
    "    \"x\":33,\n",
    "    \"y\":34,\n",
    "    \"z\":35,\n",
    "    \"A\":36,\n",
    "    \"B\":37,\n",
    "    \"C\":38,\n",
    "    \"D\":39,\n",
    "    \"E\":40,\n",
    "    \"F\":41,\n",
    "    \"G\":42,\n",
    "    \"H\":43,\n",
    "    \"I\":44,\n",
    "    \"J\":45,\n",
    "    \"K\":46,\n",
    "    \"L\":47,\n",
    "    \"M\":48,\n",
    "    \"N\":49,\n",
    "    \"O\":50,\n",
    "    \"P\":51,\n",
    "    \"Q\":52,\n",
    "    \"R\":53,\n",
    "    \"S\":54,\n",
    "    \"T\":55,\n",
    "    \"U\":56,\n",
    "    \"V\":57,\n",
    "    \"W\":58,\n",
    "    \"X\":59,\n",
    "    \"Y\":60,\n",
    "    \"Z\":61,\n",
    "}"
   ]
  },
  {
   "cell_type": "code",
   "execution_count": 6,
   "metadata": {
    "id": "PH5zaDA95zq-"
   },
   "outputs": [],
   "source": [
    "class Model(nn.Module):\n",
    "    def __init__(self,in_channels,num_classes):\n",
    "        super(Model,self).__init__()\n",
    "        self.in_channels=in_channels\n",
    "        \n",
    "        self.conv_layer=self.create_conv_layers(VGG_types[\"VGG16\"])\n",
    "        self.fcs=nn.Sequential(\n",
    "            nn.Linear(512 * 7 * 7, 4096),\n",
    "            nn.ReLU(),\n",
    "            nn.Dropout(p=0.5),\n",
    "            nn.Linear(4096, 4096),\n",
    "            nn.ReLU(),\n",
    "            nn.Dropout(p=0.5),\n",
    "            nn.Linear(4096, num_classes),\n",
    "        )\n",
    "        \n",
    "    def forward(self,x):\n",
    "        x = self.conv_layer(x)\n",
    "        x=x.reshape(x.shape[0],-1)\n",
    "        x = self.fcs(x)\n",
    "        return x\n",
    "    \n",
    "    \n",
    "    def create_conv_layers(self,architecture):\n",
    "        layers=[]\n",
    "        in_channels=self.in_channels\n",
    "        \n",
    "        for x in architecture:\n",
    "            \n",
    "            if type(x)==int:\n",
    "                out_channels=x\n",
    "                layers+=[\n",
    "                    nn.Conv2d\n",
    "                    (\n",
    "                        in_channels,out_channels,\n",
    "                        kernel_size=(3, 3),\n",
    "                        stride=(1, 1),\n",
    "                        padding=(1, 1),\n",
    "                    ),\n",
    "                    nn.BatchNorm2d(x),\n",
    "                    nn.ReLU(),\n",
    "                ]\n",
    "                in_channels=x\n",
    "                \n",
    "            elif x==\"M\":\n",
    "                layers+=[nn.MaxPool2d(kernel_size=(2, 2), stride=(2, 2))]\n",
    "                \n",
    "        return nn.Sequential(*layers)\n",
    "        "
   ]
  },
  {
   "cell_type": "code",
   "execution_count": null,
   "metadata": {
    "colab": {
     "base_uri": "https://localhost:8080/"
    },
    "id": "xKOFAbKC5zrB",
    "outputId": "5aeb40ae-f852-4696-a4c0-822f9612d483"
   },
   "outputs": [],
   "source": [
    "model = Model(in_channels=3, num_classes=62)\n",
    "# model.to(device)"
   ]
  },
  {
   "cell_type": "code",
   "execution_count": null,
   "metadata": {
    "id": "TDZmbYZ35zrD"
   },
   "outputs": [],
   "source": [
    "class English(Dataset):\n",
    "    def __init__(self,csv_file,root_dir,transform):\n",
    "        self.annotations=pd.read_csv(csv_file)\n",
    "        self.root_dir=root_dir\n",
    "        self.transform=transform\n",
    "    \n",
    "    def __len__(self):\n",
    "        return len(self.annotations)\n",
    "    \n",
    "    def __getitem__(self,index):\n",
    "        img_path=os.path.join(\"./data/\",self.annotations.iloc[index,0])\n",
    "        image=Image.open(img_path)\n",
    "        global label\n",
    "        y_label=torch.tensor(label[str(self.annotations.iloc[index,1])])\n",
    "      \n",
    "        if self.transform:\n",
    "            image=self.transform(image)\n",
    "            \n",
    "        return (image,y_label)"
   ]
  },
  {
   "cell_type": "code",
   "execution_count": null,
   "metadata": {
    "id": "McZ49VZYBAB4"
   },
   "outputs": [],
   "source": [
    "transform=transforms.Compose([\n",
    "        transforms.Resize((224,224)),\n",
    "        transforms.ToTensor(),\n",
    "        transforms.Normalize([0.485, 0.456, 0.406], [0.229, 0.224, 0.225])\n",
    "    ])"
   ]
  },
  {
   "cell_type": "code",
   "execution_count": null,
   "metadata": {
    "id": "JtFQnqg95zrG"
   },
   "outputs": [],
   "source": [
    "dataset=English(\"./data/english.csv\",\"./data\",transform)"
   ]
  },
  {
   "cell_type": "code",
   "execution_count": null,
   "metadata": {
    "id": "Zu32LWFZ5zrI"
   },
   "outputs": [],
   "source": [
    "train_set,test_set=torch.utils.data.random_split(dataset,[2728,682])\n",
    "train_loader=DataLoader(dataset=train_set,batch_size=32,shuffle=True)\n",
    "test_loader=DataLoader(dataset=test_set,batch_size=32,shuffle=True)"
   ]
  },
  {
   "cell_type": "code",
   "execution_count": null,
   "metadata": {
    "id": "RTop2Brm5zrJ"
   },
   "outputs": [],
   "source": [
    "criterion=nn.CrossEntropyLoss()\n",
    "optimizer=torch.optim.Adam(model.parameters(),lr=1e-3)"
   ]
  },
  {
   "cell_type": "code",
   "execution_count": null,
   "metadata": {
    "colab": {
     "base_uri": "https://localhost:8080/"
    },
    "id": "7DDMSRnZ5zrL",
    "outputId": "c46d9001-86cc-44b2-cf24-42e2cd8092be"
   },
   "outputs": [],
   "source": [
    "for e in range(100):\n",
    "    running_loss=0\n",
    "    for i,(inputs,labels) in enumerate(train_loader):\n",
    "        inputs=inputs.to(device)\n",
    "        labels=labels.to(device)\n",
    "        \n",
    "        outputs=model(inputs)\n",
    "        loss=criterion(outputs,labels)\n",
    "        running_loss+=float(loss)\n",
    "        \n",
    "        optimizer.zero_grad()\n",
    "        loss.backward()\n",
    "        \n",
    "        optimizer.step()\n",
    "    \n",
    "    print(\"Epoch:\"+str(e)+\" loss:\"+str(running_loss/len(train_loader)))"
   ]
  },
  {
   "cell_type": "code",
   "execution_count": 25,
   "metadata": {
    "id": "zUbpuw5-5zrN"
   },
   "outputs": [],
   "source": [
    "PATH=\"weights.pth\"\n",
    "# torch.save(model.state_dict(), PATH)"
   ]
  },
  {
   "cell_type": "markdown",
   "metadata": {
    "id": "-Zd7mdGP9W38"
   },
   "source": [
    "# Testing"
   ]
  },
  {
   "cell_type": "code",
   "execution_count": 26,
   "metadata": {},
   "outputs": [
    {
     "data": {
      "text/plain": [
       "Model(\n",
       "  (conv_layer): Sequential(\n",
       "    (0): Conv2d(3, 64, kernel_size=(3, 3), stride=(1, 1), padding=(1, 1))\n",
       "    (1): BatchNorm2d(64, eps=1e-05, momentum=0.1, affine=True, track_running_stats=True)\n",
       "    (2): ReLU()\n",
       "    (3): Conv2d(64, 64, kernel_size=(3, 3), stride=(1, 1), padding=(1, 1))\n",
       "    (4): BatchNorm2d(64, eps=1e-05, momentum=0.1, affine=True, track_running_stats=True)\n",
       "    (5): ReLU()\n",
       "    (6): MaxPool2d(kernel_size=(2, 2), stride=(2, 2), padding=0, dilation=1, ceil_mode=False)\n",
       "    (7): Conv2d(64, 128, kernel_size=(3, 3), stride=(1, 1), padding=(1, 1))\n",
       "    (8): BatchNorm2d(128, eps=1e-05, momentum=0.1, affine=True, track_running_stats=True)\n",
       "    (9): ReLU()\n",
       "    (10): Conv2d(128, 128, kernel_size=(3, 3), stride=(1, 1), padding=(1, 1))\n",
       "    (11): BatchNorm2d(128, eps=1e-05, momentum=0.1, affine=True, track_running_stats=True)\n",
       "    (12): ReLU()\n",
       "    (13): MaxPool2d(kernel_size=(2, 2), stride=(2, 2), padding=0, dilation=1, ceil_mode=False)\n",
       "    (14): Conv2d(128, 256, kernel_size=(3, 3), stride=(1, 1), padding=(1, 1))\n",
       "    (15): BatchNorm2d(256, eps=1e-05, momentum=0.1, affine=True, track_running_stats=True)\n",
       "    (16): ReLU()\n",
       "    (17): Conv2d(256, 256, kernel_size=(3, 3), stride=(1, 1), padding=(1, 1))\n",
       "    (18): BatchNorm2d(256, eps=1e-05, momentum=0.1, affine=True, track_running_stats=True)\n",
       "    (19): ReLU()\n",
       "    (20): Conv2d(256, 256, kernel_size=(3, 3), stride=(1, 1), padding=(1, 1))\n",
       "    (21): BatchNorm2d(256, eps=1e-05, momentum=0.1, affine=True, track_running_stats=True)\n",
       "    (22): ReLU()\n",
       "    (23): MaxPool2d(kernel_size=(2, 2), stride=(2, 2), padding=0, dilation=1, ceil_mode=False)\n",
       "    (24): Conv2d(256, 512, kernel_size=(3, 3), stride=(1, 1), padding=(1, 1))\n",
       "    (25): BatchNorm2d(512, eps=1e-05, momentum=0.1, affine=True, track_running_stats=True)\n",
       "    (26): ReLU()\n",
       "    (27): Conv2d(512, 512, kernel_size=(3, 3), stride=(1, 1), padding=(1, 1))\n",
       "    (28): BatchNorm2d(512, eps=1e-05, momentum=0.1, affine=True, track_running_stats=True)\n",
       "    (29): ReLU()\n",
       "    (30): Conv2d(512, 512, kernel_size=(3, 3), stride=(1, 1), padding=(1, 1))\n",
       "    (31): BatchNorm2d(512, eps=1e-05, momentum=0.1, affine=True, track_running_stats=True)\n",
       "    (32): ReLU()\n",
       "    (33): MaxPool2d(kernel_size=(2, 2), stride=(2, 2), padding=0, dilation=1, ceil_mode=False)\n",
       "    (34): Conv2d(512, 512, kernel_size=(3, 3), stride=(1, 1), padding=(1, 1))\n",
       "    (35): BatchNorm2d(512, eps=1e-05, momentum=0.1, affine=True, track_running_stats=True)\n",
       "    (36): ReLU()\n",
       "    (37): Conv2d(512, 512, kernel_size=(3, 3), stride=(1, 1), padding=(1, 1))\n",
       "    (38): BatchNorm2d(512, eps=1e-05, momentum=0.1, affine=True, track_running_stats=True)\n",
       "    (39): ReLU()\n",
       "    (40): Conv2d(512, 512, kernel_size=(3, 3), stride=(1, 1), padding=(1, 1))\n",
       "    (41): BatchNorm2d(512, eps=1e-05, momentum=0.1, affine=True, track_running_stats=True)\n",
       "    (42): ReLU()\n",
       "    (43): MaxPool2d(kernel_size=(2, 2), stride=(2, 2), padding=0, dilation=1, ceil_mode=False)\n",
       "  )\n",
       "  (fcs): Sequential(\n",
       "    (0): Linear(in_features=25088, out_features=4096, bias=True)\n",
       "    (1): ReLU()\n",
       "    (2): Dropout(p=0.5, inplace=False)\n",
       "    (3): Linear(in_features=4096, out_features=4096, bias=True)\n",
       "    (4): ReLU()\n",
       "    (5): Dropout(p=0.5, inplace=False)\n",
       "    (6): Linear(in_features=4096, out_features=62, bias=True)\n",
       "  )\n",
       ")"
      ]
     },
     "execution_count": 26,
     "metadata": {},
     "output_type": "execute_result"
    }
   ],
   "source": [
    "model = Model(in_channels=3, num_classes=62)\n",
    "model.load_state_dict(torch.load(PATH))\n",
    "# model.to(device)\n",
    "model.eval()"
   ]
  },
  {
   "cell_type": "code",
   "execution_count": null,
   "metadata": {},
   "outputs": [],
   "source": [
    "correct=0\n",
    "total=0\n",
    "with torch.no_grad():    \n",
    "    for i,(inputs,labels) in enumerate(test_loader):\n",
    "#         inputs=inputs.to(device)\n",
    "#         labels=labels.to(device)\n",
    "        \n",
    "        outputs=model(inputs)\n",
    "        \n",
    "        for j,x in enumerate(outputs):\n",
    "            \n",
    "            if torch.argmax(x)==labels[j]:\n",
    "                correct+=1\n",
    "            \n",
    "            total+=1\n",
    "    \n",
    "    print(f'Total:{total}, Correct:{correct}, Percentage:{(correct*100)/total}')"
   ]
  },
  {
   "cell_type": "markdown",
   "metadata": {},
   "source": [
    "# Using ONNX format"
   ]
  },
  {
   "cell_type": "code",
   "execution_count": 41,
   "metadata": {},
   "outputs": [
    {
     "name": "stdout",
     "output_type": "stream",
     "text": [
      "torch.Size([1, 3, 224, 224])\n",
      "tensor(5)\n",
      "Predicted class: 5\n",
      "(224, 224, 3)\n"
     ]
    }
   ],
   "source": [
    "import cv2\n",
    "import numpy as np\n",
    "\n",
    "transform=transforms.Compose([\n",
    "        transforms.Resize((224,224)),\n",
    "        transforms.ToTensor(),\n",
    "        transforms.Normalize([0.485, 0.456, 0.406], [0.229, 0.224, 0.225]),\n",
    "    ])\n",
    "\n",
    "\n",
    "net =  cv2.dnn.readNetFromONNX(\"vgg.onnx\") \n",
    "img = Image.open(\"img006-008.png\")\n",
    "img=transform(img)\n",
    "img_tensor=torch.unsqueeze(img,0)\n",
    "print(torch.argmax(model(img_tensor)))\n",
    "img_tensor=img_tensor[0].numpy().transpose(1, 2, 0)\n",
    "\n",
    "# img_numpy=img.numpy()\n",
    "# open_cv_image = np.array(img) \n",
    "# # Convert RGB to BGR \n",
    "# open_cv_image = img_numpy[:, :, ::-1].copy()\n",
    "\n",
    "blob = cv2.dnn.blobFromImage(img_tensor)\n",
    "net.setInput(blob)\n",
    "preds = net.forward()\n",
    "biggest_pred_index = np.array(preds)[0].argmax()\n",
    "print (\"Predicted class:\",biggest_pred_index)"
   ]
  },
  {
   "cell_type": "code",
   "execution_count": 15,
   "metadata": {},
   "outputs": [],
   "source": [
    "??cv2.dnn.blobFromImage"
   ]
  },
  {
   "cell_type": "code",
   "execution_count": null,
   "metadata": {},
   "outputs": [],
   "source": []
  }
 ],
 "metadata": {
  "accelerator": "GPU",
  "colab": {
   "collapsed_sections": [],
   "name": "Untitled.ipynb",
   "provenance": []
  },
  "kernelspec": {
   "display_name": "Python 3",
   "language": "python",
   "name": "python3"
  },
  "language_info": {
   "codemirror_mode": {
    "name": "ipython",
    "version": 3
   },
   "file_extension": ".py",
   "mimetype": "text/x-python",
   "name": "python",
   "nbconvert_exporter": "python",
   "pygments_lexer": "ipython3",
   "version": "3.6.10"
  }
 },
 "nbformat": 4,
 "nbformat_minor": 1
}
